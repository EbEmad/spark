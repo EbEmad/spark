{
 "cells": [
  {
   "cell_type": "code",
   "execution_count": null,
   "id": "b07ee9e2",
   "metadata": {},
   "outputs": [],
   "source": [
    "%run connect-to-spark-container.ipynb"
   ]
  },
  {
   "cell_type": "code",
   "execution_count": null,
   "id": "b8a8c266",
   "metadata": {},
   "outputs": [],
   "source": [
    "!cat /data/flight-data/csv/2010-summary.csv"
   ]
  },
  {
   "cell_type": "code",
   "execution_count": null,
   "id": "eb357417",
   "metadata": {},
   "outputs": [],
   "source": [
    "textFile = spark.read.text(\"file:///data/flight-data/csv/2010-summary.csv\")"
   ]
  },
  {
   "cell_type": "code",
   "execution_count": null,
   "id": "e1c525c1",
   "metadata": {},
   "outputs": [],
   "source": [
    "type(textFile)"
   ]
  },
  {
   "cell_type": "code",
   "execution_count": null,
   "id": "721bed2f",
   "metadata": {},
   "outputs": [],
   "source": [
    "textFile.show(5)"
   ]
  },
  {
   "cell_type": "code",
   "execution_count": null,
   "id": "363c215c",
   "metadata": {},
   "outputs": [],
   "source": [
    "textFile.count()"
   ]
  },
  {
   "cell_type": "code",
   "execution_count": null,
   "id": "2808c19a",
   "metadata": {},
   "outputs": [],
   "source": [
    "textFile.first()"
   ]
  },
  {
   "cell_type": "code",
   "execution_count": null,
   "id": "fc516524",
   "metadata": {},
   "outputs": [],
   "source": [
    "textFile.take(3)"
   ]
  },
  {
   "cell_type": "code",
   "execution_count": null,
   "id": "0feb585b",
   "metadata": {},
   "outputs": [],
   "source": [
    "textFile.columns"
   ]
  },
  {
   "cell_type": "code",
   "execution_count": null,
   "id": "7e6e1ab6",
   "metadata": {},
   "outputs": [],
   "source": [
    "linesWithEgypt = textFile.filter(textFile.value.contains(\"Egypt\"))"
   ]
  },
  {
   "cell_type": "code",
   "execution_count": null,
   "id": "c4015aff",
   "metadata": {},
   "outputs": [],
   "source": [
    "linesWithEgypt.count()"
   ]
  },
  {
   "cell_type": "code",
   "execution_count": null,
   "id": "6e203716",
   "metadata": {},
   "outputs": [],
   "source": []
  }
 ],
 "metadata": {
  "kernelspec": {
   "display_name": "Python 3 (ipykernel)",
   "language": "python",
   "name": "python3"
  },
  "language_info": {
   "codemirror_mode": {
    "name": "ipython",
    "version": 3
   },
   "file_extension": ".py",
   "mimetype": "text/x-python",
   "name": "python",
   "nbconvert_exporter": "python",
   "pygments_lexer": "ipython3",
   "version": "3.9.2"
  }
 },
 "nbformat": 4,
 "nbformat_minor": 5
}
