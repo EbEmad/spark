{
 "cells": [
  {
   "cell_type": "code",
   "execution_count": null,
   "id": "d29190c1",
   "metadata": {},
   "outputs": [],
   "source": [
    "!/usr/local/spark/sbin/stop-all.sh"
   ]
  },
  {
   "cell_type": "code",
   "execution_count": null,
   "id": "1dc5d685",
   "metadata": {},
   "outputs": [],
   "source": [
    "!/usr/local/spark/sbin/start-all.sh"
   ]
  },
  {
   "cell_type": "code",
   "execution_count": null,
   "id": "b6c769f6",
   "metadata": {},
   "outputs": [],
   "source": [
    "!jps"
   ]
  },
  {
   "cell_type": "code",
   "execution_count": null,
   "id": "a02fad80",
   "metadata": {},
   "outputs": [],
   "source": [
    "import findspark\n",
    "findspark.init()\n",
    "findspark.find()"
   ]
  },
  {
   "cell_type": "code",
   "execution_count": null,
   "id": "ff91f31d",
   "metadata": {},
   "outputs": [],
   "source": [
    "import pyspark\n",
    "from pyspark import SparkContext, SparkConf\n",
    "from pyspark.sql import SparkSession\n",
    "\n",
    "#spark = SparkSession.builder.getOrCreate()\n",
    "\n",
    "#conf = pyspark.SparkConf().setAppName('LearningSpark').setMaster(\"local\")\n",
    "conf = pyspark.SparkConf().setAppName('LearningSpark').setMaster(\"spark://sparkc:7077\")\n",
    "sc = pyspark.SparkContext(conf = conf)\n",
    "spark = SparkSession(sc)"
   ]
  },
  {
   "cell_type": "code",
   "execution_count": null,
   "id": "d49d69f1-cf07-422f-b3c5-aac259fc848b",
   "metadata": {},
   "outputs": [],
   "source": [
    "sc.getConf().getAll()"
   ]
  },
  {
   "cell_type": "code",
   "execution_count": null,
   "id": "976b75ee",
   "metadata": {
    "scrolled": true
   },
   "outputs": [],
   "source": [
    "spark"
   ]
  },
  {
   "cell_type": "code",
   "execution_count": null,
   "id": "3e066f44",
   "metadata": {},
   "outputs": [],
   "source": [
    "data = [1,2,3,4,5]\n",
    "distData = sc.parallelize(data)"
   ]
  },
  {
   "cell_type": "code",
   "execution_count": null,
   "id": "af37d7da-c818-46b8-9499-3a7238b6fb22",
   "metadata": {},
   "outputs": [
    {
     "name": "stdout",
     "output_type": "stream",
     "text": [
      "23/06/10 20:31:51 ERROR TaskSchedulerImpl: Lost executor 0 on 172.17.0.3: Remote RPC client disassociated. Likely due to containers exceeding thresholds, or network issues. Check driver logs for WARN messages.\n",
      "23/06/10 20:31:51 WARN StandaloneAppClient$ClientEndpoint: Connection to 0.0.0.0:7077 failed; waiting for master to reconnect...\n",
      "23/06/10 20:31:51 WARN StandaloneSchedulerBackend: Disconnected from Spark cluster! Waiting for reconnection...\n"
     ]
    }
   ],
   "source": [
    "for x in distData.collect():\n",
    "    print (x)"
   ]
  },
  {
   "cell_type": "code",
   "execution_count": null,
   "id": "b175a399-f482-4bf2-81bc-dc1cf014ef2a",
   "metadata": {},
   "outputs": [],
   "source": [
    "distData.reduce(lambda a, b: a + b)"
   ]
  },
  {
   "cell_type": "code",
   "execution_count": null,
   "id": "fb4912e3-005d-42fb-8f7b-52fc78bc4bc8",
   "metadata": {},
   "outputs": [],
   "source": [
    "file = sc.textFile(\"file:///data/README.md\")"
   ]
  },
  {
   "cell_type": "code",
   "execution_count": null,
   "id": "831873ee-5c4b-43ba-8529-c07dae195116",
   "metadata": {},
   "outputs": [],
   "source": [
    "line_Lenghts = file.map(lambda l: len(l))\n",
    "total_length = line_Lenghts.reduce(lambda a, b,: a + b)\n",
    "total_length"
   ]
  },
  {
   "cell_type": "code",
   "execution_count": null,
   "id": "6cf1ccfc-8cf0-4c46-8acb-a31d465c6a94",
   "metadata": {},
   "outputs": [],
   "source": [
    "for x in file.collect():\n",
    "    print (x)"
   ]
  },
  {
   "cell_type": "code",
   "execution_count": null,
   "id": "31503beb",
   "metadata": {},
   "outputs": [],
   "source": []
  }
 ],
 "metadata": {
  "kernelspec": {
   "display_name": "Python 3 (ipykernel)",
   "language": "python",
   "name": "python3"
  },
  "language_info": {
   "codemirror_mode": {
    "name": "ipython",
    "version": 3
   },
   "file_extension": ".py",
   "mimetype": "text/x-python",
   "name": "python",
   "nbconvert_exporter": "python",
   "pygments_lexer": "ipython3",
   "version": "3.9.2"
  }
 },
 "nbformat": 4,
 "nbformat_minor": 5
}
