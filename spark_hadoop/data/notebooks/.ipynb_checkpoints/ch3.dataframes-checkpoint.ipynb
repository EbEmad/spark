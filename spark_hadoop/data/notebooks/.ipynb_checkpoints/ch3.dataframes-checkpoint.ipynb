{
 "cells": [
  {
   "cell_type": "markdown",
   "id": "1ff4b9dd",
   "metadata": {},
   "source": [
    "# connect to the cluster"
   ]
  },
  {
   "cell_type": "code",
   "execution_count": null,
   "id": "6cbe2e87",
   "metadata": {},
   "outputs": [],
   "source": [
    "%run connect-to-spark-container.ipynb"
   ]
  },
  {
   "cell_type": "code",
   "execution_count": null,
   "id": "dd16876e",
   "metadata": {},
   "outputs": [],
   "source": [
    "sc"
   ]
  },
  {
   "cell_type": "markdown",
   "id": "bbc5e80b",
   "metadata": {},
   "source": [
    "# examine the data"
   ]
  },
  {
   "cell_type": "code",
   "execution_count": null,
   "id": "d2caf0ff",
   "metadata": {},
   "outputs": [],
   "source": [
    "!ls /data"
   ]
  },
  {
   "cell_type": "code",
   "execution_count": null,
   "id": "46176191",
   "metadata": {},
   "outputs": [],
   "source": [
    "!ls /data/flight-data"
   ]
  },
  {
   "cell_type": "code",
   "execution_count": null,
   "id": "27a77321",
   "metadata": {},
   "outputs": [],
   "source": [
    "!ls /data/flight-data/csv/"
   ]
  },
  {
   "cell_type": "code",
   "execution_count": null,
   "id": "519b7ef0",
   "metadata": {},
   "outputs": [],
   "source": [
    "!cat /data/flight-data/csv/2010-summary.csv"
   ]
  },
  {
   "cell_type": "code",
   "execution_count": null,
   "id": "c08f828b",
   "metadata": {},
   "outputs": [],
   "source": [
    "!head /data/flight-data/csv/2010-summary.csv"
   ]
  },
  {
   "cell_type": "markdown",
   "id": "158431a4",
   "metadata": {},
   "source": [
    "# create the dataframe"
   ]
  },
  {
   "cell_type": "code",
   "execution_count": null,
   "id": "22132232",
   "metadata": {},
   "outputs": [],
   "source": [
    "flightDF = spark.read.option(\"header\", \"true\").csv(\"file:///data/flight-data/csv/2010-summary.csv\")"
   ]
  },
  {
   "cell_type": "code",
   "execution_count": null,
   "id": "3c887454-4249-420f-9a24-7fa3a99bfa36",
   "metadata": {},
   "outputs": [],
   "source": [
    "flightDF.show()"
   ]
  },
  {
   "cell_type": "code",
   "execution_count": null,
   "id": "bff83bad-1736-44d9-aef5-66c856fe2156",
   "metadata": {},
   "outputs": [],
   "source": [
    "spark.conf.set('spark.sql.repl.eagerEval.enabled', True)"
   ]
  },
  {
   "cell_type": "code",
   "execution_count": null,
   "id": "f97e7a80-4bf0-4612-bb4a-12baa7b1d2e3",
   "metadata": {},
   "outputs": [],
   "source": [
    "flightDF"
   ]
  },
  {
   "cell_type": "markdown",
   "id": "46f09b7e-f26a-40da-a237-cfed1cacb270",
   "metadata": {},
   "source": [
    "## examine structure and metadata"
   ]
  },
  {
   "cell_type": "code",
   "execution_count": null,
   "id": "8fcc22e4-1aba-486f-b966-58b272cd21d0",
   "metadata": {},
   "outputs": [],
   "source": [
    "flightDF.columns"
   ]
  },
  {
   "cell_type": "code",
   "execution_count": null,
   "id": "2605bdb1-7ec7-410c-8336-6411d5dfa5f6",
   "metadata": {},
   "outputs": [],
   "source": [
    "flightDF.explain"
   ]
  },
  {
   "cell_type": "code",
   "execution_count": null,
   "id": "17e798fe-cc34-4601-827e-c4589e23a762",
   "metadata": {},
   "outputs": [],
   "source": [
    "flightDF.printSchema()"
   ]
  },
  {
   "cell_type": "code",
   "execution_count": null,
   "id": "291db825-f9f7-4dba-83ec-40207bcaee3a",
   "metadata": {},
   "outputs": [],
   "source": [
    "flightDF.describe()"
   ]
  },
  {
   "cell_type": "code",
   "execution_count": null,
   "id": "04f7f5cd-54dd-4f52-98cb-a8d1101e60de",
   "metadata": {},
   "outputs": [],
   "source": [
    "flightDF.summary()"
   ]
  },
  {
   "cell_type": "code",
   "execution_count": null,
   "id": "aff2dc0d-79cd-48f9-8753-47525a687431",
   "metadata": {},
   "outputs": [],
   "source": [
    "flightDF.limit(10)"
   ]
  },
  {
   "cell_type": "code",
   "execution_count": null,
   "id": "fb45e869-fd01-481b-b324-bdb7a37ddb56",
   "metadata": {},
   "outputs": [],
   "source": [
    "flightDF.collect()"
   ]
  },
  {
   "cell_type": "markdown",
   "id": "a346d31f-9a79-4e59-9841-6d63d7820e62",
   "metadata": {},
   "source": [
    "## select"
   ]
  },
  {
   "cell_type": "code",
   "execution_count": null,
   "id": "b355b52c-4650-449b-ba88-0d65680f141b",
   "metadata": {},
   "outputs": [],
   "source": [
    "flightDF.select(\"DEST_COUNTRY_NAME\", \"count\")"
   ]
  },
  {
   "cell_type": "code",
   "execution_count": null,
   "id": "89576fe0-7b99-40f2-9a60-e8579b57ead7",
   "metadata": {},
   "outputs": [],
   "source": [
    "flightDF.select(flightDF.columns[0]) # OR\n",
    "flightDF.select(flightDF[0])"
   ]
  },
  {
   "cell_type": "code",
   "execution_count": null,
   "id": "15d3b4a6-285a-4d15-9cd6-3ac2ff72a8be",
   "metadata": {},
   "outputs": [],
   "source": [
    "# distinct\n",
    "flightDF.select(\"DEST_COUNTRY_NAME\").distinct()"
   ]
  },
  {
   "cell_type": "code",
   "execution_count": null,
   "id": "117c6ef4-b542-4804-9626-7cd56356af9d",
   "metadata": {},
   "outputs": [],
   "source": [
    "# sort\n",
    "flightDF.select(\"DEST_COUNTRY_NAME\").distinct().sort(\"DEST_COUNTRY_NAME\")"
   ]
  },
  {
   "cell_type": "markdown",
   "id": "5935df2e-37c2-41bf-85e8-97b0b6a7c932",
   "metadata": {},
   "source": [
    "## delete"
   ]
  },
  {
   "cell_type": "code",
   "execution_count": null,
   "id": "0b59093d-cc5e-426f-b6bb-a33c3e8f5399",
   "metadata": {},
   "outputs": [],
   "source": [
    "new_flight_df = flightDF.drop(\"ORIGIN_COUNTRY_NAME\")"
   ]
  },
  {
   "cell_type": "code",
   "execution_count": null,
   "id": "e33627c9-f70d-4d55-9bd4-7b3f84b26d69",
   "metadata": {},
   "outputs": [],
   "source": []
  },
  {
   "cell_type": "markdown",
   "id": "0ccb644f-0e8f-42bf-a176-bf8a400147b7",
   "metadata": {},
   "source": [
    "## rename column"
   ]
  },
  {
   "cell_type": "code",
   "execution_count": null,
   "id": "56c91ab5-eaaa-4773-9458-4b7818930e6e",
   "metadata": {},
   "outputs": [],
   "source": [
    "flightDF.withColumnRenamed(\"DEST_COUNTRY_NAME\", \"Destination\").withColumnRenamed(\"ORIGIN_COUNTRY_NAME\", \"Origin\").show(10)"
   ]
  },
  {
   "cell_type": "code",
   "execution_count": null,
   "id": "3246bccb-67f4-454d-a62d-117862f024c8",
   "metadata": {},
   "outputs": [],
   "source": []
  },
  {
   "cell_type": "markdown",
   "id": "24294f07-aa5b-4093-9413-bb02dc07786f",
   "metadata": {},
   "source": [
    "## drop nulls"
   ]
  },
  {
   "cell_type": "code",
   "execution_count": null,
   "id": "13bdf82e-7829-43bc-be3c-ab757be3b073",
   "metadata": {},
   "outputs": [],
   "source": [
    "flightDF.dropna('any') # any or all"
   ]
  },
  {
   "cell_type": "markdown",
   "id": "52945fc6-3133-4adc-b2b0-3e0f0d723d96",
   "metadata": {},
   "source": [
    "## drop duplicates"
   ]
  },
  {
   "cell_type": "code",
   "execution_count": 109,
   "id": "81703ba9-ab12-42df-9ba0-9f485177d11d",
   "metadata": {},
   "outputs": [
    {
     "name": "stdout",
     "output_type": "stream",
     "text": [
      "+-----------------+-------------------+-----+\n",
      "|DEST_COUNTRY_NAME|ORIGIN_COUNTRY_NAME|count|\n",
      "+-----------------+-------------------+-----+\n",
      "|           Jordan|      United States|   50|\n",
      "|          Denmark|      United States|   98|\n",
      "+-----------------+-------------------+-----+\n",
      "only showing top 2 rows\n",
      "\n"
     ]
    }
   ],
   "source": [
    "flightDF.dropDuplicates().show(2)"
   ]
  },
  {
   "cell_type": "code",
   "execution_count": null,
   "id": "161ac440-1e61-4724-8974-d1436aeb4bd5",
   "metadata": {},
   "outputs": [],
   "source": []
  },
  {
   "cell_type": "markdown",
   "id": "cc29de67-ea1d-48f6-a390-9dc06d53db1e",
   "metadata": {},
   "source": [
    "## SQL functions"
   ]
  },
  {
   "cell_type": "code",
   "execution_count": null,
   "id": "829e04dd-d799-410b-ac6e-0641f4439888",
   "metadata": {},
   "outputs": [],
   "source": [
    "import pyspark.sql.functions as f"
   ]
  },
  {
   "cell_type": "markdown",
   "id": "71e3431f-8cdc-42f9-822f-7c73ede64a84",
   "metadata": {},
   "source": [
    "## add columns"
   ]
  },
  {
   "cell_type": "code",
   "execution_count": null,
   "id": "9adb7b27-d513-4b1f-9606-92db94bf86ca",
   "metadata": {},
   "outputs": [],
   "source": [
    "flightDF.withColumn(\"desc\", f.lit(\"flight\"))"
   ]
  },
  {
   "cell_type": "code",
   "execution_count": null,
   "id": "5af6e92d-3ada-4d2d-b60b-c20f76553191",
   "metadata": {},
   "outputs": [],
   "source": [
    "flightDF.withColumn(\"Odd or Even\", f.when(f.col(\"count\")%2 == 0, \"even\").otherwise(\"odd\")).show(20, False)"
   ]
  },
  {
   "cell_type": "markdown",
   "id": "5a42ddf6-b5c7-4dc5-9320-f90d769af7da",
   "metadata": {},
   "source": [
    "## split columns"
   ]
  },
  {
   "cell_type": "code",
   "execution_count": null,
   "id": "74909dc8-37b4-4dde-9cfc-01fd54568d35",
   "metadata": {},
   "outputs": [],
   "source": [
    "flightDF.columns"
   ]
  },
  {
   "cell_type": "code",
   "execution_count": null,
   "id": "088ae64a-d8cd-476f-b208-7f46eee47ed2",
   "metadata": {},
   "outputs": [],
   "source": [
    "flightDF.select(f.split(f.col(\"DEST_COUNTRY_NAME\"), \" \").getItem(0).alias(\"first\"), \\\n",
    "                f.split(f.col(\"DEST_COUNTRY_NAME\"), \" \").getItem(1).alias(\"second\"))"
   ]
  },
  {
   "cell_type": "code",
   "execution_count": null,
   "id": "1c7f074e-2e83-489e-bbe6-2c54e1cce482",
   "metadata": {},
   "outputs": [],
   "source": [
    "flightDF"
   ]
  },
  {
   "cell_type": "code",
   "execution_count": null,
   "id": "16272bba-f389-4d53-8a8e-e0e4851d64d7",
   "metadata": {},
   "outputs": [],
   "source": []
  },
  {
   "cell_type": "code",
   "execution_count": null,
   "id": "3c148093-e1d2-43b9-8c5e-b98435e57da5",
   "metadata": {},
   "outputs": [],
   "source": []
  },
  {
   "cell_type": "markdown",
   "id": "af32f534-6f56-434f-a789-0707c5095b34",
   "metadata": {},
   "source": [
    "# stop all"
   ]
  },
  {
   "cell_type": "code",
   "execution_count": null,
   "id": "8107729f-7dee-44ee-ad33-696d3fbe9905",
   "metadata": {},
   "outputs": [],
   "source": [
    "%run stop-all.ipynb"
   ]
  },
  {
   "cell_type": "code",
   "execution_count": null,
   "id": "62457659-db7c-4640-ae55-7d4fba55cf56",
   "metadata": {},
   "outputs": [],
   "source": []
  }
 ],
 "metadata": {
  "kernelspec": {
   "display_name": "Python 3 (ipykernel)",
   "language": "python",
   "name": "python3"
  },
  "language_info": {
   "codemirror_mode": {
    "name": "ipython",
    "version": 3
   },
   "file_extension": ".py",
   "mimetype": "text/x-python",
   "name": "python",
   "nbconvert_exporter": "python",
   "pygments_lexer": "ipython3",
   "version": "3.9.2"
  }
 },
 "nbformat": 4,
 "nbformat_minor": 5
}
